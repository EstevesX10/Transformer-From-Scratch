{
 "cells": [
  {
   "cell_type": "markdown",
   "id": "4241c04c-27f4-41d0-8769-14944d5d5121",
   "metadata": {},
   "source": [
    "<div align=\"center\">\n",
    "\n",
    "---\n",
    "# Transformer from Scractch [Python]\n",
    "---\n",
    "</div>"
   ]
  },
  {
   "cell_type": "markdown",
   "id": "c238d489-7b52-41c9-b8ff-805e8a6de149",
   "metadata": {},
   "source": [
    "This Notebook mainly focuses on Trainning the Transformer (Perform Translation Tasks) as well as to Validate and Test it's performance upon new instances of data (Unseen Data)."
   ]
  },
  {
   "cell_type": "markdown",
   "id": "ea2d5b5a-e655-4307-bbb3-e17d5cee1a97",
   "metadata": {},
   "source": [
    "---\n",
    "## Train\n",
    "\n",
    "The developed Transformer is going to be used within Translation Tasks between English and Portuguese using the HuggingFace upos dataset for both Train and Validation Steps."
   ]
  },
  {
   "cell_type": "code",
   "execution_count": 1,
   "id": "73aedf89-dc2a-418e-a330-71cd518544dd",
   "metadata": {},
   "outputs": [],
   "source": [
    "%load_ext autoreload\n",
    "%autoreload 2\n",
    "\n",
    "# Importing Dependencies\n",
    "import warnings\n",
    "import torch\n",
    "from torch import (nn)\n",
    "from Configuration import (Get_Configuration, Get_Weights_File_Path)\n",
    "from Train import (Train_Model, Get_Model, Get_Dataset)\n",
    "from Validation import (Run_Validation)"
   ]
  },
  {
   "cell_type": "code",
   "execution_count": 2,
   "id": "784c4ac8-3356-4990-b7d4-84459c792e66",
   "metadata": {},
   "outputs": [],
   "source": [
    "# Filtering the Pytorch Warnings\n",
    "warnings.filterwarnings('ignore')\n",
    "\n",
    "# Loading the Configuration Dictionary\n",
    "config = Get_Configuration()"
   ]
  },
  {
   "cell_type": "code",
   "execution_count": 3,
   "id": "f00ca96a-bc00-461a-a581-8bf2f88ea8c8",
   "metadata": {},
   "outputs": [
    {
     "name": "stdout",
     "output_type": "stream",
     "text": [
      "Using device: cuda\n",
      "Max Length of Source Sentence: 204\n",
      "Max Length of Target Sentence: 196\n"
     ]
    },
    {
     "name": "stderr",
     "output_type": "stream",
     "text": [
      "Processing epoch 00: 100%|███████████████████████████████████████| 158/158 [01:25<00:00,  1.84it/s, Loss=5.148]\n",
      "Processing epoch 01: 100%|███████████████████████████████████████| 158/158 [01:25<00:00,  1.85it/s, Loss=4.562]\n",
      "Processing epoch 02: 100%|███████████████████████████████████████| 158/158 [01:25<00:00,  1.85it/s, Loss=5.133]\n",
      "Processing epoch 03: 100%|███████████████████████████████████████| 158/158 [01:25<00:00,  1.85it/s, Loss=5.013]\n",
      "Processing epoch 04: 100%|███████████████████████████████████████| 158/158 [01:25<00:00,  1.84it/s, Loss=4.392]\n",
      "Processing epoch 05: 100%|███████████████████████████████████████| 158/158 [01:25<00:00,  1.84it/s, Loss=4.373]\n",
      "Processing epoch 06: 100%|███████████████████████████████████████| 158/158 [01:25<00:00,  1.84it/s, Loss=4.331]\n",
      "Processing epoch 07: 100%|███████████████████████████████████████| 158/158 [01:25<00:00,  1.85it/s, Loss=3.616]\n",
      "Processing epoch 08: 100%|███████████████████████████████████████| 158/158 [01:25<00:00,  1.85it/s, Loss=3.415]\n",
      "Processing epoch 09: 100%|███████████████████████████████████████| 158/158 [01:25<00:00,  1.85it/s, Loss=3.528]\n",
      "Processing epoch 10: 100%|███████████████████████████████████████| 158/158 [01:25<00:00,  1.85it/s, Loss=3.041]\n",
      "Processing epoch 11: 100%|███████████████████████████████████████| 158/158 [01:25<00:00,  1.84it/s, Loss=3.110]\n",
      "Processing epoch 12: 100%|███████████████████████████████████████| 158/158 [01:25<00:00,  1.84it/s, Loss=3.089]\n",
      "Processing epoch 13: 100%|███████████████████████████████████████| 158/158 [01:25<00:00,  1.84it/s, Loss=3.213]\n",
      "Processing epoch 14: 100%|███████████████████████████████████████| 158/158 [01:25<00:00,  1.85it/s, Loss=2.085]\n",
      "Processing epoch 15: 100%|███████████████████████████████████████| 158/158 [01:25<00:00,  1.85it/s, Loss=2.242]\n",
      "Processing epoch 16: 100%|███████████████████████████████████████| 158/158 [01:25<00:00,  1.85it/s, Loss=2.211]\n",
      "Processing epoch 17: 100%|███████████████████████████████████████| 158/158 [01:25<00:00,  1.85it/s, Loss=1.876]\n",
      "Processing epoch 18: 100%|███████████████████████████████████████| 158/158 [01:25<00:00,  1.84it/s, Loss=1.617]\n",
      "Processing epoch 19: 100%|███████████████████████████████████████| 158/158 [01:25<00:00,  1.84it/s, Loss=1.837]\n",
      "Processing epoch 20: 100%|███████████████████████████████████████| 158/158 [01:25<00:00,  1.85it/s, Loss=1.568]\n",
      "Processing epoch 21: 100%|███████████████████████████████████████| 158/158 [01:25<00:00,  1.85it/s, Loss=1.924]\n",
      "Processing epoch 22: 100%|███████████████████████████████████████| 158/158 [01:25<00:00,  1.85it/s, Loss=1.502]\n",
      "Processing epoch 23: 100%|███████████████████████████████████████| 158/158 [01:25<00:00,  1.85it/s, Loss=1.556]\n",
      "Processing epoch 24: 100%|███████████████████████████████████████| 158/158 [01:25<00:00,  1.85it/s, Loss=1.364]\n",
      "Processing epoch 25: 100%|███████████████████████████████████████| 158/158 [01:25<00:00,  1.85it/s, Loss=1.328]\n",
      "Processing epoch 26: 100%|███████████████████████████████████████| 158/158 [01:25<00:00,  1.85it/s, Loss=1.408]\n",
      "Processing epoch 27: 100%|███████████████████████████████████████| 158/158 [01:25<00:00,  1.85it/s, Loss=1.407]\n",
      "Processing epoch 28: 100%|███████████████████████████████████████| 158/158 [01:25<00:00,  1.85it/s, Loss=1.309]\n",
      "Processing epoch 29: 100%|███████████████████████████████████████| 158/158 [01:25<00:00,  1.85it/s, Loss=1.349]\n",
      "Processing epoch 30: 100%|███████████████████████████████████████| 158/158 [01:25<00:00,  1.85it/s, Loss=1.368]\n",
      "Processing epoch 31: 100%|███████████████████████████████████████| 158/158 [01:25<00:00,  1.84it/s, Loss=1.291]\n",
      "Processing epoch 32: 100%|███████████████████████████████████████| 158/158 [01:25<00:00,  1.84it/s, Loss=1.328]\n",
      "Processing epoch 33: 100%|███████████████████████████████████████| 158/158 [01:25<00:00,  1.84it/s, Loss=1.320]\n",
      "Processing epoch 34: 100%|███████████████████████████████████████| 158/158 [01:25<00:00,  1.84it/s, Loss=1.384]\n",
      "Processing epoch 35: 100%|███████████████████████████████████████| 158/158 [01:25<00:00,  1.85it/s, Loss=1.423]\n",
      "Processing epoch 36: 100%|███████████████████████████████████████| 158/158 [01:25<00:00,  1.85it/s, Loss=1.293]\n",
      "Processing epoch 37: 100%|███████████████████████████████████████| 158/158 [01:25<00:00,  1.85it/s, Loss=1.258]\n",
      "Processing epoch 38: 100%|███████████████████████████████████████| 158/158 [01:25<00:00,  1.85it/s, Loss=1.282]\n",
      "Processing epoch 39: 100%|███████████████████████████████████████| 158/158 [01:25<00:00,  1.85it/s, Loss=1.300]\n",
      "Processing epoch 40: 100%|███████████████████████████████████████| 158/158 [01:25<00:00,  1.85it/s, Loss=1.288]\n",
      "Processing epoch 41: 100%|███████████████████████████████████████| 158/158 [01:25<00:00,  1.85it/s, Loss=1.279]\n",
      "Processing epoch 42: 100%|███████████████████████████████████████| 158/158 [01:25<00:00,  1.85it/s, Loss=1.261]\n",
      "Processing epoch 43: 100%|███████████████████████████████████████| 158/158 [01:25<00:00,  1.85it/s, Loss=1.224]\n",
      "Processing epoch 44: 100%|███████████████████████████████████████| 158/158 [01:25<00:00,  1.85it/s, Loss=1.261]\n",
      "Processing epoch 45: 100%|███████████████████████████████████████| 158/158 [01:25<00:00,  1.85it/s, Loss=1.252]\n",
      "Processing epoch 46: 100%|███████████████████████████████████████| 158/158 [01:25<00:00,  1.85it/s, Loss=1.247]\n",
      "Processing epoch 47: 100%|███████████████████████████████████████| 158/158 [01:25<00:00,  1.85it/s, Loss=1.216]\n",
      "Processing epoch 48: 100%|███████████████████████████████████████| 158/158 [01:25<00:00,  1.85it/s, Loss=1.238]\n",
      "Processing epoch 49: 100%|███████████████████████████████████████| 158/158 [01:25<00:00,  1.85it/s, Loss=1.246]\n",
      "Processing epoch 50: 100%|███████████████████████████████████████| 158/158 [01:25<00:00,  1.85it/s, Loss=1.207]\n",
      "Processing epoch 51: 100%|███████████████████████████████████████| 158/158 [01:25<00:00,  1.84it/s, Loss=1.219]\n",
      "Processing epoch 52: 100%|███████████████████████████████████████| 158/158 [01:25<00:00,  1.84it/s, Loss=1.253]\n",
      "Processing epoch 53: 100%|███████████████████████████████████████| 158/158 [01:25<00:00,  1.85it/s, Loss=1.235]\n",
      "Processing epoch 54: 100%|███████████████████████████████████████| 158/158 [01:25<00:00,  1.85it/s, Loss=1.219]\n",
      "Processing epoch 55: 100%|███████████████████████████████████████| 158/158 [01:25<00:00,  1.85it/s, Loss=1.215]\n",
      "Processing epoch 56: 100%|███████████████████████████████████████| 158/158 [01:25<00:00,  1.84it/s, Loss=1.235]\n",
      "Processing epoch 57: 100%|███████████████████████████████████████| 158/158 [01:26<00:00,  1.82it/s, Loss=1.241]\n",
      "Processing epoch 58: 100%|███████████████████████████████████████| 158/158 [01:27<00:00,  1.82it/s, Loss=1.216]\n",
      "Processing epoch 59: 100%|███████████████████████████████████████| 158/158 [01:27<00:00,  1.81it/s, Loss=1.214]\n",
      "Processing epoch 60: 100%|███████████████████████████████████████| 158/158 [01:26<00:00,  1.82it/s, Loss=1.256]\n",
      "Processing epoch 61: 100%|███████████████████████████████████████| 158/158 [01:27<00:00,  1.81it/s, Loss=1.238]\n",
      "Processing epoch 62: 100%|███████████████████████████████████████| 158/158 [01:27<00:00,  1.81it/s, Loss=1.211]\n",
      "Processing epoch 63: 100%|███████████████████████████████████████| 158/158 [01:27<00:00,  1.81it/s, Loss=1.235]\n",
      "Processing epoch 64: 100%|███████████████████████████████████████| 158/158 [01:26<00:00,  1.82it/s, Loss=1.216]\n",
      "Processing epoch 65: 100%|███████████████████████████████████████| 158/158 [01:26<00:00,  1.83it/s, Loss=1.176]\n",
      "Processing epoch 66: 100%|███████████████████████████████████████| 158/158 [01:25<00:00,  1.85it/s, Loss=1.184]\n",
      "Processing epoch 67: 100%|███████████████████████████████████████| 158/158 [01:25<00:00,  1.85it/s, Loss=1.185]\n",
      "Processing epoch 68: 100%|███████████████████████████████████████| 158/158 [01:25<00:00,  1.85it/s, Loss=1.170]\n",
      "Processing epoch 69: 100%|███████████████████████████████████████| 158/158 [01:25<00:00,  1.85it/s, Loss=1.194]\n",
      "Processing epoch 70: 100%|███████████████████████████████████████| 158/158 [01:25<00:00,  1.85it/s, Loss=1.176]\n",
      "Processing epoch 71: 100%|███████████████████████████████████████| 158/158 [01:25<00:00,  1.85it/s, Loss=1.182]\n",
      "Processing epoch 72: 100%|███████████████████████████████████████| 158/158 [01:25<00:00,  1.85it/s, Loss=1.173]\n",
      "Processing epoch 73: 100%|███████████████████████████████████████| 158/158 [01:25<00:00,  1.85it/s, Loss=1.173]\n",
      "Processing epoch 74: 100%|███████████████████████████████████████| 158/158 [01:25<00:00,  1.85it/s, Loss=1.197]\n",
      "Processing epoch 75: 100%|███████████████████████████████████████| 158/158 [01:25<00:00,  1.85it/s, Loss=1.190]\n",
      "Processing epoch 76: 100%|███████████████████████████████████████| 158/158 [01:25<00:00,  1.85it/s, Loss=1.162]\n",
      "Processing epoch 77: 100%|███████████████████████████████████████| 158/158 [01:25<00:00,  1.85it/s, Loss=1.172]\n",
      "Processing epoch 78: 100%|███████████████████████████████████████| 158/158 [01:25<00:00,  1.85it/s, Loss=1.204]\n",
      "Processing epoch 79: 100%|███████████████████████████████████████| 158/158 [01:25<00:00,  1.85it/s, Loss=1.198]\n",
      "Processing epoch 80: 100%|███████████████████████████████████████| 158/158 [01:25<00:00,  1.86it/s, Loss=1.173]\n",
      "Processing epoch 81: 100%|███████████████████████████████████████| 158/158 [01:25<00:00,  1.85it/s, Loss=1.183]\n",
      "Processing epoch 82: 100%|███████████████████████████████████████| 158/158 [01:25<00:00,  1.85it/s, Loss=1.154]\n",
      "Processing epoch 83: 100%|███████████████████████████████████████| 158/158 [01:25<00:00,  1.85it/s, Loss=1.178]\n",
      "Processing epoch 84: 100%|███████████████████████████████████████| 158/158 [01:25<00:00,  1.85it/s, Loss=1.173]\n",
      "Processing epoch 85: 100%|███████████████████████████████████████| 158/158 [01:25<00:00,  1.85it/s, Loss=1.157]\n",
      "Processing epoch 86: 100%|███████████████████████████████████████| 158/158 [01:25<00:00,  1.85it/s, Loss=1.168]\n",
      "Processing epoch 87: 100%|███████████████████████████████████████| 158/158 [01:25<00:00,  1.85it/s, Loss=1.176]\n",
      "Processing epoch 88: 100%|███████████████████████████████████████| 158/158 [01:25<00:00,  1.85it/s, Loss=1.182]\n",
      "Processing epoch 89: 100%|███████████████████████████████████████| 158/158 [01:25<00:00,  1.85it/s, Loss=1.187]\n",
      "Processing epoch 90: 100%|███████████████████████████████████████| 158/158 [01:25<00:00,  1.85it/s, Loss=1.164]\n",
      "Processing epoch 91: 100%|███████████████████████████████████████| 158/158 [01:25<00:00,  1.85it/s, Loss=1.167]\n",
      "Processing epoch 92: 100%|███████████████████████████████████████| 158/158 [01:25<00:00,  1.85it/s, Loss=1.151]\n",
      "Processing epoch 93: 100%|███████████████████████████████████████| 158/158 [01:25<00:00,  1.85it/s, Loss=1.171]\n",
      "Processing epoch 94: 100%|███████████████████████████████████████| 158/158 [01:25<00:00,  1.85it/s, Loss=1.174]\n",
      "Processing epoch 95: 100%|███████████████████████████████████████| 158/158 [01:25<00:00,  1.85it/s, Loss=1.158]\n",
      "Processing epoch 96: 100%|███████████████████████████████████████| 158/158 [01:25<00:00,  1.85it/s, Loss=1.151]\n",
      "Processing epoch 97: 100%|███████████████████████████████████████| 158/158 [01:25<00:00,  1.85it/s, Loss=1.171]\n",
      "Processing epoch 98: 100%|███████████████████████████████████████| 158/158 [01:25<00:00,  1.85it/s, Loss=1.151]\n",
      "Processing epoch 99: 100%|███████████████████████████████████████| 158/158 [01:25<00:00,  1.85it/s, Loss=1.166]\n"
     ]
    }
   ],
   "source": [
    "# Train the Model\n",
    "Train_Model(config, validate=False)"
   ]
  },
  {
   "cell_type": "markdown",
   "id": "b7a80850-bc9b-4490-8d16-3b384a74e017",
   "metadata": {},
   "source": [
    "---\n",
    "## Test / Validation\n",
    "\n",
    "Now, let's take a look on how the Model performs translating new instances / texts, i.e., let's perform inference with the trained model."
   ]
  },
  {
   "cell_type": "code",
   "execution_count": 4,
   "id": "22e7c874-6621-40a9-8b50-da6cc9c8927e",
   "metadata": {},
   "outputs": [
    {
     "name": "stdout",
     "output_type": "stream",
     "text": [
      "Using Device: cuda\n",
      "Max Length of Source Sentence: 204\n",
      "Max Length of Target Sentence: 196\n"
     ]
    }
   ],
   "source": [
    "# Define the Device\n",
    "device = torch.device(\"cuda\" if torch.cuda.is_available() else \"cpu\")\n",
    "print(f\"Using Device: {device}\")\n",
    "# config = Get_Configuration()\n",
    "train_dataloader, test_dataloader, tokenizer_source, tokenizer_target = Get_Dataset(config)\n",
    "model = Get_Model(config, tokenizer_source.get_vocab_size(), tokenizer_target.get_vocab_size()).to(device)"
   ]
  },
  {
   "cell_type": "code",
   "execution_count": 5,
   "id": "2406bb92-ac96-463a-9405-6a43af3bfcf5",
   "metadata": {},
   "outputs": [
    {
     "data": {
      "text/plain": [
       "<All keys matched successfully>"
      ]
     },
     "execution_count": 5,
     "metadata": {},
     "output_type": "execute_result"
    }
   ],
   "source": [
    "# Load the Pretrained Model\n",
    "model_filename = Get_Weights_File_Path(config, f\"99\")\n",
    "state = torch.load(model_filename)\n",
    "model.load_state_dict(state['model_state_dict'])"
   ]
  },
  {
   "cell_type": "code",
   "execution_count": 6,
   "id": "b98870d3-a931-42b5-bebb-a593d32fce80",
   "metadata": {
    "scrolled": true
   },
   "outputs": [
    {
     "name": "stdout",
     "output_type": "stream",
     "text": [
      "--------------------------------------------------------------------------------\n",
      "SOURCE: Once more she found herself in the long hall, and close to the little glass table.\n",
      "TARGET: Achou-se uma vez mais no corredor comprido, e perto da pequena mesa de vidro.\n",
      "PREDICTED: Achou - se uma vez mais no corredor , e perto da pequena mesa de vidro .\n",
      "--------------------------------------------------------------------------------\n",
      "SOURCE: 'You are old, Father William,' the young man said,\n",
      "TARGET: 'Você está velho, Pai William,' disse o jovem,\n",
      "PREDICTED: ' Você está velho , Pai William ,' disse o jovem ,\n",
      "--------------------------------------------------------------------------------\n",
      "SOURCE: Twinkle, twinkle--\"'\n",
      "TARGET: Brilha, brilha--\"\n",
      "PREDICTED: Brilha , brilha --\"\n",
      "--------------------------------------------------------------------------------\n",
      "SOURCE: 'And so these three little sisters--they were learning to draw, you know--'\n",
      "TARGET: \"E assim, as três irmãs, que estavam a aprender a desenhar...\"\n",
      "PREDICTED: \" E assim , as três irmãs , que estavam a aprender a desenhar ...\"\n",
      "--------------------------------------------------------------------------------\n",
      "SOURCE: All this time the Queen had never left off staring at the Hatter, and, just as the Dormouse crossed the court, she said to one of the officers of the court, 'Bring me the list of the singers in the last concert!' on which the wretched Hatter trembled so, that he shook both his shoes off.\n",
      "TARGET: Todo este tempo a Rainha não havia deixado de encarar o Chapeleiro, e, justamente quando o Arganaz cruzou a corte, ela disse para um dos oficiais na corte, \"Traga-me a lista dos cantores do último concerto!\" no qual o pobre coitado do Chapeleiro se tremeu tanto, que sacudiu ambos os sapatos para fora.\n",
      "PREDICTED: Todo este tempo a Rainha não havia deixado de encarar o Chapeleiro , e , justamente quando o Arganaz cruzou a corte , ela disse para um dos oficiais na corte , \" Traga - me a lista dos cantores do último concerto !\" no qual o pobre coitado do Chapeleiro se tremeu tanto , que sacudiu ambos os sapatos para fora .\n"
     ]
    }
   ],
   "source": [
    "# Run Validation\n",
    "Run_Validation(model, test_dataloader,\n",
    "               tokenizer_source, tokenizer_target,\n",
    "               config['sequence_length'], device, lambda msg: print(msg), 0, None, num_examples=5)"
   ]
  },
  {
   "cell_type": "markdown",
   "id": "d19e4320-97df-4d20-a026-c675317a6328",
   "metadata": {},
   "source": [
    "---"
   ]
  }
 ],
 "metadata": {
  "kernelspec": {
   "display_name": "Python 3 (ipykernel)",
   "language": "python",
   "name": "python3"
  },
  "language_info": {
   "codemirror_mode": {
    "name": "ipython",
    "version": 3
   },
   "file_extension": ".py",
   "mimetype": "text/x-python",
   "name": "python",
   "nbconvert_exporter": "python",
   "pygments_lexer": "ipython3",
   "version": "3.10.0"
  }
 },
 "nbformat": 4,
 "nbformat_minor": 5
}
